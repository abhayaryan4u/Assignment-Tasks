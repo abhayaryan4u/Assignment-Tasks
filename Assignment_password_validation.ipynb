{
  "nbformat": 4,
  "nbformat_minor": 0,
  "metadata": {
    "colab": {
      "name": "Assignment_password validation.ipynb",
      "provenance": [],
      "authorship_tag": "ABX9TyOXI/3NgATDlkyEg+/l2bqA",
      "include_colab_link": true
    },
    "kernelspec": {
      "name": "python3",
      "display_name": "Python 3"
    },
    "language_info": {
      "name": "python"
    }
  },
  "cells": [
    {
      "cell_type": "markdown",
      "metadata": {
        "id": "view-in-github",
        "colab_type": "text"
      },
      "source": [
        "<a href=\"https://colab.research.google.com/github/abhayaryan4u/Assignment-Tasks/blob/main/Assignment_password_validation.ipynb\" target=\"_parent\"><img src=\"https://colab.research.google.com/assets/colab-badge.svg\" alt=\"Open In Colab\"/></a>"
      ]
    },
    {
      "cell_type": "code",
      "source": [
        "#ABHAY ARYAN\n",
        "\n",
        "special_characters= '''!@#$%^&*()-_=+'\"<>/'''\n",
        "x=0\n",
        "while x<=3:\n",
        "  pw = input(\"Enter password you want, only 3 attempts allowed: \")\n",
        "  if len(pw)<6 or len(pw)>15:\n",
        "    print(\"Password must contain 6 to 15 characters only\")\n",
        "  else:\n",
        "    True\n",
        "  if pw.isupper():\n",
        "    print(\"Atleast 1 lower case letter is required\")\n",
        "  elif pw.islower():\n",
        "    print(\"Atleast 1 upper case letter is required\")\n",
        "  elif pw.isdigit():\n",
        "    print(\"Password must contain atleast 1 alphabet\")\n",
        "  elif pw.isalpha():\n",
        "    print(\"Password must contain atleast 1 digit\")\n",
        "  elif not any (c in special_characters for c in pw):\n",
        "    print('''Add atleast one special character from !@#$%^&*()-_=+'\"<>/''')\n",
        "  else:\n",
        "    print(\"Password accepted\")\n",
        "    break\n",
        "  x+=1"
      ],
      "metadata": {
        "colab": {
          "base_uri": "https://localhost:8080/"
        },
        "id": "gLGsGSe9t7jm",
        "outputId": "59775a0a-e022-45fa-be83-26fbe8b98266"
      },
      "execution_count": 3,
      "outputs": [
        {
          "output_type": "stream",
          "name": "stdout",
          "text": [
            "Enter password you want, only 3 attempts allowed: Abhayaryan\n",
            "Password must contain atleast 1 digit\n",
            "Enter password you want, only 3 attempts allowed: Abhayaryan1\n",
            "Add atleast one special character from !@#$%^&*()-_=+'\"<>/\n",
            "Enter password you want, only 3 attempts allowed: Abhay@123\n",
            "Password accepted\n"
          ]
        }
      ]
    }
  ]
}