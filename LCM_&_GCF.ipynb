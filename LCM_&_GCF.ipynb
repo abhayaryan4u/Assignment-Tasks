{
  "nbformat": 4,
  "nbformat_minor": 0,
  "metadata": {
    "colab": {
      "name": "LCM & GCF.ipynb",
      "provenance": [],
      "authorship_tag": "ABX9TyNdTirrGi6c0AtbTzmCDGVc",
      "include_colab_link": true
    },
    "kernelspec": {
      "name": "python3",
      "display_name": "Python 3"
    },
    "language_info": {
      "name": "python"
    }
  },
  "cells": [
    {
      "cell_type": "markdown",
      "metadata": {
        "id": "view-in-github",
        "colab_type": "text"
      },
      "source": [
        "<a href=\"https://colab.research.google.com/github/abhayaryan4u/Assignment-Tasks/blob/main/LCM_%26_GCF.ipynb\" target=\"_parent\"><img src=\"https://colab.research.google.com/assets/colab-badge.svg\" alt=\"Open In Colab\"/></a>"
      ]
    },
    {
      "cell_type": "code",
      "source": [
        "#ABHAY ARYAN\n",
        "#REFERRAL CODE= DIRSS3122"
      ],
      "metadata": {
        "id": "Y-7gPz3ZKcuE"
      },
      "execution_count": null,
      "outputs": []
    },
    {
      "cell_type": "code",
      "source": [
        "def LCM(a,b):\n",
        "  x=max(a,b)\n",
        "  while True:\n",
        "    if x%a==0 and x%b==0:\n",
        "      lcm=x\n",
        "      break\n",
        "    x+=1\n",
        "  return lcm"
      ],
      "metadata": {
        "id": "9Og50oW_KhuG"
      },
      "execution_count": 30,
      "outputs": []
    },
    {
      "cell_type": "code",
      "source": [
        "LCM(5,15)"
      ],
      "metadata": {
        "colab": {
          "base_uri": "https://localhost:8080/"
        },
        "id": "9GCxeiyxK-PE",
        "outputId": "89381087-3ef5-42a8-f278-e23935e0ade8"
      },
      "execution_count": 31,
      "outputs": [
        {
          "output_type": "execute_result",
          "data": {
            "text/plain": [
              "15"
            ]
          },
          "metadata": {},
          "execution_count": 31
        }
      ]
    },
    {
      "cell_type": "code",
      "source": [
        "LCM(8,12)"
      ],
      "metadata": {
        "colab": {
          "base_uri": "https://localhost:8080/"
        },
        "id": "yBo_ApTpLBZW",
        "outputId": "fe47d4b5-2b4e-44cd-e959-901fca19f6bb"
      },
      "execution_count": 32,
      "outputs": [
        {
          "output_type": "execute_result",
          "data": {
            "text/plain": [
              "24"
            ]
          },
          "metadata": {},
          "execution_count": 32
        }
      ]
    },
    {
      "cell_type": "code",
      "source": [
        "def GCF(g,h):\n",
        "  if g<h:\n",
        "    smaller=g\n",
        "  else:\n",
        "    smaller=h\n",
        "  for i in range(1,smaller+1):\n",
        "    if g%i==0 and h%i==0:\n",
        "      gcf=i\n",
        "  return gcf"
      ],
      "metadata": {
        "id": "71f6ohQGLHA4"
      },
      "execution_count": 37,
      "outputs": []
    },
    {
      "cell_type": "code",
      "source": [
        "GCF(5,45)"
      ],
      "metadata": {
        "colab": {
          "base_uri": "https://localhost:8080/"
        },
        "id": "d_cHcwicL5T_",
        "outputId": "f387e73a-5462-40e4-c068-99eb6c643e6b"
      },
      "execution_count": 39,
      "outputs": [
        {
          "output_type": "execute_result",
          "data": {
            "text/plain": [
              "5"
            ]
          },
          "metadata": {},
          "execution_count": 39
        }
      ]
    }
  ]
}